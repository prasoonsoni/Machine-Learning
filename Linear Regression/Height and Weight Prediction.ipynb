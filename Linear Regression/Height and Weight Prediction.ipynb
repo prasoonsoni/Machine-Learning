{
 "cells": [
  {
   "cell_type": "code",
   "execution_count": 1,
   "id": "7bbce238",
   "metadata": {},
   "outputs": [],
   "source": [
    "import numpy as np\n",
    "import pandas as pd\n",
    "from sklearn.model_selection import train_test_split\n",
    "from sklearn.linear_model import LinearRegression"
   ]
  },
  {
   "cell_type": "code",
   "execution_count": 3,
   "id": "c8f2fe43",
   "metadata": {},
   "outputs": [
    {
     "name": "stdout",
     "output_type": "stream",
     "text": [
      "    Height  Weight\n",
      "0     1.47   52.21\n",
      "1     1.50   53.12\n",
      "2     1.52   54.48\n",
      "3     1.55   55.84\n",
      "4     1.57   57.20\n",
      "5     1.60   58.57\n",
      "6     1.63   59.93\n",
      "7     1.65   61.29\n",
      "8     1.68   63.11\n",
      "9     1.70   64.47\n",
      "10    1.73   66.28\n",
      "11    1.75   68.10\n",
      "12    1.78   69.92\n",
      "13    1.80   72.19\n",
      "14    1.83   74.46\n"
     ]
    }
   ],
   "source": [
    "data = pd.read_csv('height_weight_data.csv')\n",
    "print(data)"
   ]
  },
  {
   "cell_type": "code",
   "execution_count": 4,
   "id": "a796732d",
   "metadata": {},
   "outputs": [
    {
     "name": "stdout",
     "output_type": "stream",
     "text": [
      "[[1.47]\n",
      " [1.5 ]\n",
      " [1.52]\n",
      " [1.55]\n",
      " [1.57]\n",
      " [1.6 ]\n",
      " [1.63]\n",
      " [1.65]\n",
      " [1.68]\n",
      " [1.7 ]\n",
      " [1.73]\n",
      " [1.75]\n",
      " [1.78]\n",
      " [1.8 ]\n",
      " [1.83]]\n"
     ]
    }
   ],
   "source": [
    "x = data.iloc[:,:-1].values\n",
    "print(x)"
   ]
  },
  {
   "cell_type": "code",
   "execution_count": 10,
   "id": "a8278c79",
   "metadata": {},
   "outputs": [
    {
     "name": "stdout",
     "output_type": "stream",
     "text": [
      "[[52.21]\n",
      " [53.12]\n",
      " [54.48]\n",
      " [55.84]\n",
      " [57.2 ]\n",
      " [58.57]\n",
      " [59.93]\n",
      " [61.29]\n",
      " [63.11]\n",
      " [64.47]\n",
      " [66.28]\n",
      " [68.1 ]\n",
      " [69.92]\n",
      " [72.19]\n",
      " [74.46]]\n"
     ]
    }
   ],
   "source": [
    "y = data.iloc[:,1:2].values\n",
    "print(y)"
   ]
  },
  {
   "cell_type": "code",
   "execution_count": 11,
   "id": "4c381d8f",
   "metadata": {},
   "outputs": [],
   "source": [
    "x_train,x_test,y_train,y_test = train_test_split(x,y,test_size=1/3,random_state=0)"
   ]
  },
  {
   "cell_type": "code",
   "execution_count": 12,
   "id": "f8a0a293",
   "metadata": {},
   "outputs": [
    {
     "data": {
      "text/plain": [
       "LinearRegression()"
      ]
     },
     "execution_count": 12,
     "metadata": {},
     "output_type": "execute_result"
    }
   ],
   "source": [
    "model = LinearRegression()\n",
    "model.fit(x_train,y_train)"
   ]
  },
  {
   "cell_type": "code",
   "execution_count": 15,
   "id": "de1835d2",
   "metadata": {},
   "outputs": [
    {
     "name": "stdout",
     "output_type": "stream",
     "text": [
      "[[53.1008463 ]\n",
      " [60.8890856 ]\n",
      " [63.88456226]\n",
      " [65.08275292]\n",
      " [72.87099222]]\n"
     ]
    }
   ],
   "source": [
    "print(model.predict(x_test))"
   ]
  },
  {
   "cell_type": "code",
   "execution_count": null,
   "id": "00fbfb37",
   "metadata": {},
   "outputs": [],
   "source": []
  }
 ],
 "metadata": {
  "kernelspec": {
   "display_name": "Python 3",
   "language": "python",
   "name": "python3"
  },
  "language_info": {
   "codemirror_mode": {
    "name": "ipython",
    "version": 3
   },
   "file_extension": ".py",
   "mimetype": "text/x-python",
   "name": "python",
   "nbconvert_exporter": "python",
   "pygments_lexer": "ipython3",
   "version": "3.8.8"
  }
 },
 "nbformat": 4,
 "nbformat_minor": 5
}
