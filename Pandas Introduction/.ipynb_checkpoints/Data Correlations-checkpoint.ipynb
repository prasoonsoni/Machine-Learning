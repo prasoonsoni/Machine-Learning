{
 "cells": [
  {
   "cell_type": "markdown",
   "id": "2cd21121",
   "metadata": {},
   "source": [
    "# <span style=\"color:blue\">Data Correlations</span>"
   ]
  },
  {
   "cell_type": "code",
   "execution_count": 2,
   "id": "2eff0eb4",
   "metadata": {},
   "outputs": [],
   "source": [
    "import pandas as pd"
   ]
  },
  {
   "cell_type": "markdown",
   "id": "a509258b",
   "metadata": {},
   "source": [
    "## • Finding Relationships"
   ]
  },
  {
   "cell_type": "markdown",
   "id": "ece85053",
   "metadata": {},
   "source": [
    "A great aspect of the Pandas module is the **`corr()`** method.\n",
    "\n",
    "The **`corr()`** method calculates the relationship between each column in your data set."
   ]
  },
  {
   "cell_type": "code",
   "execution_count": 4,
   "id": "c4280eb8",
   "metadata": {},
   "outputs": [
    {
     "data": {
      "text/html": [
       "<div>\n",
       "<style scoped>\n",
       "    .dataframe tbody tr th:only-of-type {\n",
       "        vertical-align: middle;\n",
       "    }\n",
       "\n",
       "    .dataframe tbody tr th {\n",
       "        vertical-align: top;\n",
       "    }\n",
       "\n",
       "    .dataframe thead th {\n",
       "        text-align: right;\n",
       "    }\n",
       "</style>\n",
       "<table border=\"1\" class=\"dataframe\">\n",
       "  <thead>\n",
       "    <tr style=\"text-align: right;\">\n",
       "      <th></th>\n",
       "      <th>Duration</th>\n",
       "      <th>Pulse</th>\n",
       "      <th>Maxpulse</th>\n",
       "      <th>Calories</th>\n",
       "    </tr>\n",
       "  </thead>\n",
       "  <tbody>\n",
       "    <tr>\n",
       "      <th>Duration</th>\n",
       "      <td>1.000000</td>\n",
       "      <td>-0.155408</td>\n",
       "      <td>0.009403</td>\n",
       "      <td>0.922717</td>\n",
       "    </tr>\n",
       "    <tr>\n",
       "      <th>Pulse</th>\n",
       "      <td>-0.155408</td>\n",
       "      <td>1.000000</td>\n",
       "      <td>0.786535</td>\n",
       "      <td>0.025121</td>\n",
       "    </tr>\n",
       "    <tr>\n",
       "      <th>Maxpulse</th>\n",
       "      <td>0.009403</td>\n",
       "      <td>0.786535</td>\n",
       "      <td>1.000000</td>\n",
       "      <td>0.203813</td>\n",
       "    </tr>\n",
       "    <tr>\n",
       "      <th>Calories</th>\n",
       "      <td>0.922717</td>\n",
       "      <td>0.025121</td>\n",
       "      <td>0.203813</td>\n",
       "      <td>1.000000</td>\n",
       "    </tr>\n",
       "  </tbody>\n",
       "</table>\n",
       "</div>"
      ],
      "text/plain": [
       "          Duration     Pulse  Maxpulse  Calories\n",
       "Duration  1.000000 -0.155408  0.009403  0.922717\n",
       "Pulse    -0.155408  1.000000  0.786535  0.025121\n",
       "Maxpulse  0.009403  0.786535  1.000000  0.203813\n",
       "Calories  0.922717  0.025121  0.203813  1.000000"
      ]
     },
     "execution_count": 4,
     "metadata": {},
     "output_type": "execute_result"
    }
   ],
   "source": [
    "df = pd.read_csv('data.csv')\n",
    "df.corr()"
   ]
  },
  {
   "cell_type": "markdown",
   "id": "f6e50b8b",
   "metadata": {},
   "source": [
    "**Note**: The **`corr()`** method ignores \"not numeric\" columns."
   ]
  },
  {
   "cell_type": "markdown",
   "id": "dbb223fe",
   "metadata": {},
   "source": [
    "#### Result Explained"
   ]
  },
  {
   "cell_type": "markdown",
   "id": "7973e469",
   "metadata": {},
   "source": [
    "The Result of the **`corr()`** method is a table with a lot of numbers that represents how well the relationship is between two columns.\n",
    "\n",
    "**`The number varies from -1 to 1.`**\n",
    "\n",
    "- 1 means that there is a 1 to 1 relationship (a perfect correlation), and for this data set, each time a value went up in the first column, the other one went up as well.\n",
    "\n",
    "- 0.9 is also a good relationship, and if you increase one value, the other will probably increase as well.\n",
    "\n",
    "- -0.9 would be just as good relationship as 0.9, but if you increase one value, the other will probably go down.\n",
    "\n",
    "- 0.2 means NOT a good relationship, meaning that if one value goes up does not mean that the other will."
   ]
  },
  {
   "cell_type": "markdown",
   "id": "e73c2222",
   "metadata": {},
   "source": [
    "**What is a good correlation?** It depends on the use, but I think it is safe to say you have to have at least `0.6` (or `-0.6`) to call it a good correlation."
   ]
  },
  {
   "cell_type": "markdown",
   "id": "48753845",
   "metadata": {},
   "source": [
    "### ∙ Perfect Correlation\n",
    "We can see that \"Duration\" and \"Duration\" got the number **`1.000000`**, which makes sense, each column always has a perfect relationship with itself."
   ]
  },
  {
   "cell_type": "markdown",
   "id": "2cd3c17a",
   "metadata": {},
   "source": [
    "### ∙ Good Correlation\n",
    "\"Duration\" and \"Calories\" got a **`0.922721`** correlation, which is a very good correlation, and we can predict that the longer you work out, the more calories you burn, and the other way around: if you burned a lot of calories, you probably had a long work out."
   ]
  },
  {
   "cell_type": "markdown",
   "id": "17870e19",
   "metadata": {},
   "source": [
    "### ∙ Bad Correlation\n",
    "\"Duration\" and \"Maxpulse\" got a **`0.009403`** correlation, which is a very bad correlation, meaning that we can not predict the max pulse by just looking at the duration of the work out, and vice versa."
   ]
  },
  {
   "cell_type": "code",
   "execution_count": null,
   "id": "c05c1d5e",
   "metadata": {},
   "outputs": [],
   "source": []
  }
 ],
 "metadata": {
  "kernelspec": {
   "display_name": "Python 3",
   "language": "python",
   "name": "python3"
  },
  "language_info": {
   "codemirror_mode": {
    "name": "ipython",
    "version": 3
   },
   "file_extension": ".py",
   "mimetype": "text/x-python",
   "name": "python",
   "nbconvert_exporter": "python",
   "pygments_lexer": "ipython3",
   "version": "3.8.8"
  }
 },
 "nbformat": 4,
 "nbformat_minor": 5
}
