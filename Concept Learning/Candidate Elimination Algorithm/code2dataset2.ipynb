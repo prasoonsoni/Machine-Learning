{
 "cells": [
  {
   "cell_type": "code",
   "execution_count": 7,
   "id": "43e78804",
   "metadata": {},
   "outputs": [],
   "source": [
    "import pandas as pd\n",
    "import numpy as np"
   ]
  },
  {
   "cell_type": "code",
   "execution_count": 8,
   "id": "bee007c8",
   "metadata": {},
   "outputs": [
    {
     "name": "stdout",
     "output_type": "stream",
     "text": [
      "   circular  large  light     smooth  thick  yes\n",
      "0  circular  large  light  irregular  thick  yes\n",
      "1      oval  large   dark     smooth   thin   no\n",
      "2      oval  large  light  irregular  thick  yes\n"
     ]
    }
   ],
   "source": [
    "df = pd.read_csv('disease.csv')\n",
    "print(df)"
   ]
  },
  {
   "cell_type": "code",
   "execution_count": 14,
   "id": "4c671f9e",
   "metadata": {},
   "outputs": [],
   "source": [
    "def learn(concepts, target):\n",
    "    for i in range(len(target)):\n",
    "        if target[i]=='yes':\n",
    "            specific_hypothesis = concepts[i].copy()\n",
    "            break\n",
    "            \n",
    "    general_hypothesis = [[\"?\" for i in range(len(specific_hypothesis))]for i in range(len(specific_hypothesis))]\n",
    "    print(\"Initialization of specific_hypothesis and genearal_hypothesis\\n\")\n",
    "    print(\"Specific Boundary : \",specific_hypothesis,\"\\n\")\n",
    "    print(\"General Boundary : \",general_hypothesis,\"\\n\")\n",
    "    \n",
    "    for i in range(len(concepts)):\n",
    "        if target[i]==\"yes\":\n",
    "            print(\"Instance is Positive\")\n",
    "            for j in range(len(concepts[i])):\n",
    "                if concepts[i][j]!=specific_hypothesis[j]:\n",
    "                    specific_hypothesis[j] = \"?\"\n",
    "                    general_hypothesis[j][j] = \"?\"\n",
    "        if target[i]==\"no\":\n",
    "            print(\"Instance is Negative\")\n",
    "            for j in range(len(concepts[i])):\n",
    "                if concepts[i][j]!=specific_hypothesis[j]:\n",
    "                    general_hypothesis[j][j] = specific_hypothesis[j]\n",
    "                else:\n",
    "                    general_hypothesis[j][j] = \"?\"\n",
    "        print(\"Specific Bundary after \", i+1, \"Instance is \", specific_hypothesis)         \n",
    "        print(\"Generic Boundary after \", i+1, \"Instance is \", general_hypothesis)\n",
    "        print(\"\\n\")\n",
    "    \n",
    "    indices = [i for i, val in enumerate(general_hypothesis) if val == ['?', '?', '?', '?', '?', '?']]    \n",
    "    for i in indices:   \n",
    "        general_hypothesis.remove(['?', '?', '?', '?', '?', '?']) \n",
    "        \n",
    "        \n",
    "    return specific_hypothesis, general_hypothesis\n",
    "    \n",
    "            \n",
    "            "
   ]
  },
  {
   "cell_type": "code",
   "execution_count": 15,
   "id": "e890210c",
   "metadata": {},
   "outputs": [
    {
     "name": "stdout",
     "output_type": "stream",
     "text": [
      "Instances are : \n",
      "\n",
      "[['circular' 'large' 'light' 'irregular' 'thick']\n",
      " ['oval' 'large' 'dark' 'smooth' 'thin']\n",
      " ['oval' 'large' 'light' 'irregular' 'thick']]\n",
      "\n",
      "\n"
     ]
    }
   ],
   "source": [
    "concepts = np.array(df)[:,:-1]\n",
    "print(\"Instances are : \\n\")\n",
    "print(concepts)\n",
    "print(\"\\n\")"
   ]
  },
  {
   "cell_type": "code",
   "execution_count": 16,
   "id": "0def4a90",
   "metadata": {},
   "outputs": [
    {
     "name": "stdout",
     "output_type": "stream",
     "text": [
      "Target Values are : \n",
      "\n",
      "['yes' 'no' 'yes']\n",
      "\n",
      "\n"
     ]
    }
   ],
   "source": [
    "target = np.array(df)[:,-1]\n",
    "print(\"Target Values are : \\n\")\n",
    "print(target)\n",
    "print(\"\\n\")"
   ]
  },
  {
   "cell_type": "code",
   "execution_count": 17,
   "id": "b112f82d",
   "metadata": {},
   "outputs": [
    {
     "name": "stdout",
     "output_type": "stream",
     "text": [
      "Initialization of specific_hypothesis and genearal_hypothesis\n",
      "\n",
      "Specific Boundary :  ['circular' 'large' 'light' 'irregular' 'thick'] \n",
      "\n",
      "General Boundary :  [['?', '?', '?', '?', '?'], ['?', '?', '?', '?', '?'], ['?', '?', '?', '?', '?'], ['?', '?', '?', '?', '?'], ['?', '?', '?', '?', '?']] \n",
      "\n",
      "Instance is Positive\n",
      "Specific Bundary after  1 Instance is  ['circular' 'large' 'light' 'irregular' 'thick']\n",
      "Generic Boundary after  1 Instance is  [['?', '?', '?', '?', '?'], ['?', '?', '?', '?', '?'], ['?', '?', '?', '?', '?'], ['?', '?', '?', '?', '?'], ['?', '?', '?', '?', '?']]\n",
      "\n",
      "\n",
      "Instance is Negative\n",
      "Specific Bundary after  2 Instance is  ['circular' 'large' 'light' 'irregular' 'thick']\n",
      "Generic Boundary after  2 Instance is  [['circular', '?', '?', '?', '?'], ['?', '?', '?', '?', '?'], ['?', '?', 'light', '?', '?'], ['?', '?', '?', 'irregular', '?'], ['?', '?', '?', '?', 'thick']]\n",
      "\n",
      "\n",
      "Instance is Positive\n",
      "Specific Bundary after  3 Instance is  ['?' 'large' 'light' 'irregular' 'thick']\n",
      "Generic Boundary after  3 Instance is  [['?', '?', '?', '?', '?'], ['?', '?', '?', '?', '?'], ['?', '?', 'light', '?', '?'], ['?', '?', '?', 'irregular', '?'], ['?', '?', '?', '?', 'thick']]\n",
      "\n",
      "\n",
      "Final Specific Hypothesis : \n",
      "['?' 'large' 'light' 'irregular' 'thick']\n",
      "\n",
      "\n",
      "Final General Hypothesis : \n",
      "[['?', '?', '?', '?', '?'], ['?', '?', '?', '?', '?'], ['?', '?', 'light', '?', '?'], ['?', '?', '?', 'irregular', '?'], ['?', '?', '?', '?', 'thick']]\n"
     ]
    }
   ],
   "source": [
    "specific_hypothesis_final, general_hypothesis_final = learn(concepts, target)\n",
    "print(\"Final Specific Hypothesis : \", specific_hypothesis_final, sep=\"\\n\")\n",
    "print(\"\\n\")\n",
    "print(\"Final General Hypothesis : \", general_hypothesis_final, sep=\"\\n\")"
   ]
  },
  {
   "cell_type": "code",
   "execution_count": null,
   "id": "6fa6c3e0",
   "metadata": {},
   "outputs": [],
   "source": []
  }
 ],
 "metadata": {
  "kernelspec": {
   "display_name": "Python 3",
   "language": "python",
   "name": "python3"
  },
  "language_info": {
   "codemirror_mode": {
    "name": "ipython",
    "version": 3
   },
   "file_extension": ".py",
   "mimetype": "text/x-python",
   "name": "python",
   "nbconvert_exporter": "python",
   "pygments_lexer": "ipython3",
   "version": "3.8.8"
  }
 },
 "nbformat": 4,
 "nbformat_minor": 5
}
