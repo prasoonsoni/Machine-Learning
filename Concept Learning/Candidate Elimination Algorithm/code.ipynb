{
 "cells": [
  {
   "cell_type": "markdown",
   "id": "45b85e7b",
   "metadata": {},
   "source": [
    "# Implementing Candidate Elimination Algorithm"
   ]
  },
  {
   "cell_type": "markdown",
   "id": "44010dc5",
   "metadata": {},
   "source": [
    "**`Importing Required Library`**"
   ]
  },
  {
   "cell_type": "code",
   "execution_count": 1,
   "id": "6cf5b923",
   "metadata": {},
   "outputs": [],
   "source": [
    "import numpy as np\n",
    "import pandas as pd"
   ]
  },
  {
   "cell_type": "markdown",
   "id": "fcf66638",
   "metadata": {},
   "source": [
    "**` Reading CSV file`**"
   ]
  },
  {
   "cell_type": "code",
   "execution_count": 2,
   "id": "87951ba8",
   "metadata": {},
   "outputs": [],
   "source": [
    "df = pd.read_csv('data.csv')"
   ]
  },
  {
   "cell_type": "markdown",
   "id": "c20a0022",
   "metadata": {},
   "source": [
    "**` Data with Result `**"
   ]
  },
  {
   "cell_type": "code",
   "execution_count": 3,
   "id": "77a6366d",
   "metadata": {},
   "outputs": [
    {
     "name": "stdout",
     "output_type": "stream",
     "text": [
      "[['Sunny' 'Warm' 'Normal' 'Strong' 'Warm' 'Same' 'Yes']\n",
      " ['Sunny' 'Warm' 'High' 'Strong' 'Warm' 'Same' 'Yes']\n",
      " ['Rainy' 'Cold' 'High' 'Strong' 'Warm' 'Change' 'No']\n",
      " ['Sunny' 'Warm' 'High' 'Strong' 'Cool' 'Change' 'Yes']]\n"
     ]
    }
   ],
   "source": [
    "data_with_res = np.array(df)\n",
    "print(data_with_res)"
   ]
  },
  {
   "cell_type": "markdown",
   "id": "157e7306",
   "metadata": {},
   "source": [
    "**` Data without Result `**"
   ]
  },
  {
   "cell_type": "code",
   "execution_count": 4,
   "id": "f59f0a3b",
   "metadata": {},
   "outputs": [
    {
     "name": "stdout",
     "output_type": "stream",
     "text": [
      "[['Sunny' 'Warm' 'Normal' 'Strong' 'Warm' 'Same']\n",
      " ['Sunny' 'Warm' 'High' 'Strong' 'Warm' 'Same']\n",
      " ['Rainy' 'Cold' 'High' 'Strong' 'Warm' 'Change']\n",
      " ['Sunny' 'Warm' 'High' 'Strong' 'Cool' 'Change']]\n"
     ]
    }
   ],
   "source": [
    "data_without_res = np.array(df)[:,:-1]\n",
    "print(data_without_res)"
   ]
  },
  {
   "cell_type": "markdown",
   "id": "bdecf229",
   "metadata": {},
   "source": [
    "**` For Specific Hypothesis `**"
   ]
  },
  {
   "cell_type": "code",
   "execution_count": 5,
   "id": "83701686",
   "metadata": {},
   "outputs": [
    {
     "name": "stdout",
     "output_type": "stream",
     "text": [
      "['Sunny' 'Warm' 'Normal' 'Strong' 'Warm' 'Same']\n"
     ]
    }
   ],
   "source": [
    "for i in range(len(data_with_res)):\n",
    "    if data_with_res[i][-1]=='Yes':\n",
    "        specific_hypothesis = data_without_res[i].copy()\n",
    "        break\n",
    "print(specific_hypothesis)"
   ]
  },
  {
   "cell_type": "markdown",
   "id": "d247972e",
   "metadata": {},
   "source": [
    "**` For General Hypothesis `**"
   ]
  },
  {
   "cell_type": "code",
   "execution_count": 6,
   "id": "0b391eb3",
   "metadata": {},
   "outputs": [
    {
     "name": "stdout",
     "output_type": "stream",
     "text": [
      "[]\n"
     ]
    }
   ],
   "source": [
    "general_hypothesis = []\n",
    "print(general_hypothesis)"
   ]
  },
  {
   "cell_type": "markdown",
   "id": "03a662a5",
   "metadata": {},
   "source": [
    "**` For finding most specific and most general hypothesis `**"
   ]
  },
  {
   "cell_type": "code",
   "execution_count": 16,
   "id": "9182cd0e",
   "metadata": {},
   "outputs": [],
   "source": [
    "for i in range(len(data_without_res)):\n",
    "    if data_with_res[i][-1] == 'Yes':\n",
    "        for j in range(len(data_without_res[i])):\n",
    "            if data_without_res[i][j] != specific_hypothesis[j]:\n",
    "                specific_hypothesis[j] = '?'\n",
    "            else :\n",
    "                pass\n",
    "    elif data_with_res[i][-1] == 'No':\n",
    "        for j in range(len(data_without_res[i])):\n",
    "            if data_without_res[i][j] != specific_hypothesis[j]:\n",
    "                temp = ['?' for k in range(len(data_without_res[i]))]\n",
    "                temp[j] = specific_hypothesis[j]\n",
    "                general_hypothesis.append(temp)\n",
    "            else:\n",
    "                pass\n",
    "\n",
    "for i in range(len(general_hypothesis)):\n",
    "    for j in range(len(general_hypothesis[i])):\n",
    "        if general_hypothesis[i][j] != specific_hypothesis[j]:\n",
    "            general_hypothesis[i][j] = '?'\n",
    "        else:\n",
    "            pass\n",
    "\n",
    "general_hypothesis_final = []      \n",
    "for i in range(len(general_hypothesis)):\n",
    "    if general_hypothesis[i] != ['?', '?', '?', '?', '?', '?']:\n",
    "        general_hypothesis_final.append(general_hypothesis[i])\n",
    "        \n",
    "general_hypothesis = []\n",
    "for i in general_hypothesis_final:\n",
    "    if i not in general_hypothesis:\n",
    "        general_hypothesis.append(i)"
   ]
  },
  {
   "cell_type": "markdown",
   "id": "fae423dc",
   "metadata": {},
   "source": [
    "**`Printing Specific Hypothesis`**"
   ]
  },
  {
   "cell_type": "code",
   "execution_count": 15,
   "id": "997c2e36",
   "metadata": {},
   "outputs": [
    {
     "name": "stdout",
     "output_type": "stream",
     "text": [
      "['Sunny' 'Warm' '?' 'Strong' '?' '?']\n"
     ]
    }
   ],
   "source": [
    "print(specific_hypothesis)"
   ]
  },
  {
   "cell_type": "markdown",
   "id": "0e40f14c",
   "metadata": {},
   "source": [
    "**`Printing General Hypothesis`**"
   ]
  },
  {
   "cell_type": "code",
   "execution_count": 17,
   "id": "477a79ab",
   "metadata": {},
   "outputs": [
    {
     "name": "stdout",
     "output_type": "stream",
     "text": [
      "[['Sunny', '?', '?', '?', '?', '?'], ['?', 'Warm', '?', '?', '?', '?']]\n"
     ]
    }
   ],
   "source": [
    "print(general_hypothesis)"
   ]
  },
  {
   "cell_type": "code",
   "execution_count": null,
   "id": "ee84b051",
   "metadata": {},
   "outputs": [],
   "source": []
  }
 ],
 "metadata": {
  "kernelspec": {
   "display_name": "Python 3",
   "language": "python",
   "name": "python3"
  },
  "language_info": {
   "codemirror_mode": {
    "name": "ipython",
    "version": 3
   },
   "file_extension": ".py",
   "mimetype": "text/x-python",
   "name": "python",
   "nbconvert_exporter": "python",
   "pygments_lexer": "ipython3",
   "version": "3.8.8"
  }
 },
 "nbformat": 4,
 "nbformat_minor": 5
}
