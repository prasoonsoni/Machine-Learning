{
 "cells": [
  {
   "cell_type": "markdown",
   "id": "45b85e7b",
   "metadata": {},
   "source": [
    "# Implementing Candidate Elimination Algorithm"
   ]
  },
  {
   "cell_type": "markdown",
   "id": "44010dc5",
   "metadata": {},
   "source": [
    "**`Importing Required Library`**"
   ]
  },
  {
   "cell_type": "code",
   "execution_count": 6,
   "id": "6cf5b923",
   "metadata": {},
   "outputs": [],
   "source": [
    "import numpy as np\n",
    "import pandas as pd"
   ]
  },
  {
   "cell_type": "markdown",
   "id": "fcf66638",
   "metadata": {},
   "source": [
    "**` Reading CSV file`**"
   ]
  },
  {
   "cell_type": "code",
   "execution_count": 7,
   "id": "87951ba8",
   "metadata": {},
   "outputs": [],
   "source": [
    "df = pd.read_csv('disease.csv')"
   ]
  },
  {
   "cell_type": "markdown",
   "id": "c20a0022",
   "metadata": {},
   "source": [
    "**` Data with Result `**"
   ]
  },
  {
   "cell_type": "code",
   "execution_count": 8,
   "id": "77a6366d",
   "metadata": {},
   "outputs": [
    {
     "name": "stdout",
     "output_type": "stream",
     "text": [
      "[['circular' 'large' 'light' 'irregular' 'thick' 'yes']\n",
      " ['oval' 'large' 'dark' 'smooth' 'thin' 'no']\n",
      " ['oval' 'large' 'light' 'irregular' 'thick' 'yes']]\n"
     ]
    }
   ],
   "source": [
    "data_with_res = np.array(df)\n",
    "print(data_with_res)"
   ]
  },
  {
   "cell_type": "markdown",
   "id": "157e7306",
   "metadata": {},
   "source": [
    "**` Data without Result `**"
   ]
  },
  {
   "cell_type": "code",
   "execution_count": 9,
   "id": "f59f0a3b",
   "metadata": {},
   "outputs": [
    {
     "name": "stdout",
     "output_type": "stream",
     "text": [
      "[['circular' 'large' 'light' 'irregular' 'thick']\n",
      " ['oval' 'large' 'dark' 'smooth' 'thin']\n",
      " ['oval' 'large' 'light' 'irregular' 'thick']]\n"
     ]
    }
   ],
   "source": [
    "data_without_res = np.array(df)[:,:-1]\n",
    "print(data_without_res)"
   ]
  },
  {
   "cell_type": "markdown",
   "id": "bdecf229",
   "metadata": {},
   "source": [
    "**` For Specific Hypothesis `**"
   ]
  },
  {
   "cell_type": "code",
   "execution_count": 10,
   "id": "83701686",
   "metadata": {},
   "outputs": [
    {
     "ename": "NameError",
     "evalue": "name 'specific_hypothesis' is not defined",
     "output_type": "error",
     "traceback": [
      "\u001b[1;31m---------------------------------------------------------------------------\u001b[0m",
      "\u001b[1;31mNameError\u001b[0m                                 Traceback (most recent call last)",
      "\u001b[1;32m<ipython-input-10-a18fc74facab>\u001b[0m in \u001b[0;36m<module>\u001b[1;34m\u001b[0m\n\u001b[0;32m      3\u001b[0m         \u001b[0mspecific_hypothesis\u001b[0m \u001b[1;33m=\u001b[0m \u001b[0mdata_without_res\u001b[0m\u001b[1;33m[\u001b[0m\u001b[0mi\u001b[0m\u001b[1;33m]\u001b[0m\u001b[1;33m.\u001b[0m\u001b[0mcopy\u001b[0m\u001b[1;33m(\u001b[0m\u001b[1;33m)\u001b[0m\u001b[1;33m\u001b[0m\u001b[1;33m\u001b[0m\u001b[0m\n\u001b[0;32m      4\u001b[0m         \u001b[1;32mbreak\u001b[0m\u001b[1;33m\u001b[0m\u001b[1;33m\u001b[0m\u001b[0m\n\u001b[1;32m----> 5\u001b[1;33m \u001b[0mprint\u001b[0m\u001b[1;33m(\u001b[0m\u001b[0mspecific_hypothesis\u001b[0m\u001b[1;33m)\u001b[0m\u001b[1;33m\u001b[0m\u001b[1;33m\u001b[0m\u001b[0m\n\u001b[0m",
      "\u001b[1;31mNameError\u001b[0m: name 'specific_hypothesis' is not defined"
     ]
    }
   ],
   "source": [
    "for i in range(len(data_with_res)):\n",
    "    if data_with_res[i][-1]=='es':\n",
    "        specific_hypothesis = data_without_res[i].copy()\n",
    "        break\n",
    "print(specific_hypothesis)"
   ]
  },
  {
   "cell_type": "markdown",
   "id": "d247972e",
   "metadata": {},
   "source": [
    "**` For General Hypothesis `**"
   ]
  },
  {
   "cell_type": "code",
   "execution_count": 11,
   "id": "0b391eb3",
   "metadata": {},
   "outputs": [
    {
     "name": "stdout",
     "output_type": "stream",
     "text": [
      "[]\n"
     ]
    }
   ],
   "source": [
    "general_hypothesis = []\n",
    "print(general_hypothesis)"
   ]
  },
  {
   "cell_type": "markdown",
   "id": "03a662a5",
   "metadata": {},
   "source": [
    "**` For finding most specific and most general hypothesis `**"
   ]
  },
  {
   "cell_type": "code",
   "execution_count": 12,
   "id": "9182cd0e",
   "metadata": {},
   "outputs": [],
   "source": [
    "for i in range(len(data_without_res)):\n",
    "    if data_with_res[i][-1] == 'Yes':\n",
    "        for j in range(len(data_without_res[i])):\n",
    "            if data_without_res[i][j] != specific_hypothesis[j]:\n",
    "                specific_hypothesis[j] = '?'\n",
    "            else :\n",
    "                pass\n",
    "    elif data_with_res[i][-1] == 'No':\n",
    "        for j in range(len(data_without_res[i])):\n",
    "            if data_without_res[i][j] != specific_hypothesis[j]:\n",
    "                temp = ['?' for k in range(len(data_without_res[i]))]\n",
    "                temp[j] = specific_hypothesis[j]\n",
    "                general_hypothesis.append(temp)\n",
    "            else:\n",
    "                pass\n",
    "\n",
    "for i in range(len(general_hypothesis)):\n",
    "    for j in range(len(general_hypothesis[i])):\n",
    "        if general_hypothesis[i][j] != specific_hypothesis[j]:\n",
    "            general_hypothesis[i][j] = '?'\n",
    "        else:\n",
    "            pass\n",
    "\n",
    "general_hypothesis_final = []      \n",
    "for i in range(len(general_hypothesis)):\n",
    "    if general_hypothesis[i] != ['?', '?', '?', '?', '?', '?']:\n",
    "        general_hypothesis_final.append(general_hypothesis[i])\n",
    "        \n",
    "general_hypothesis = []\n",
    "for i in general_hypothesis_final:\n",
    "    if i not in general_hypothesis:\n",
    "        general_hypothesis.append(i)"
   ]
  },
  {
   "cell_type": "markdown",
   "id": "fae423dc",
   "metadata": {},
   "source": [
    "**`Printing Specific Hypothesis`**"
   ]
  },
  {
   "cell_type": "code",
   "execution_count": 13,
   "id": "997c2e36",
   "metadata": {},
   "outputs": [
    {
     "ename": "NameError",
     "evalue": "name 'specific_hypothesis' is not defined",
     "output_type": "error",
     "traceback": [
      "\u001b[1;31m---------------------------------------------------------------------------\u001b[0m",
      "\u001b[1;31mNameError\u001b[0m                                 Traceback (most recent call last)",
      "\u001b[1;32m<ipython-input-13-dd5d3ff57f92>\u001b[0m in \u001b[0;36m<module>\u001b[1;34m\u001b[0m\n\u001b[1;32m----> 1\u001b[1;33m \u001b[0mprint\u001b[0m\u001b[1;33m(\u001b[0m\u001b[0mspecific_hypothesis\u001b[0m\u001b[1;33m)\u001b[0m\u001b[1;33m\u001b[0m\u001b[1;33m\u001b[0m\u001b[0m\n\u001b[0m",
      "\u001b[1;31mNameError\u001b[0m: name 'specific_hypothesis' is not defined"
     ]
    }
   ],
   "source": [
    "print(specific_hypothesis)"
   ]
  },
  {
   "cell_type": "markdown",
   "id": "0e40f14c",
   "metadata": {},
   "source": [
    "**`Printing General Hypothesis`**"
   ]
  },
  {
   "cell_type": "code",
   "execution_count": 14,
   "id": "477a79ab",
   "metadata": {},
   "outputs": [
    {
     "name": "stdout",
     "output_type": "stream",
     "text": [
      "[]\n"
     ]
    }
   ],
   "source": [
    "print(general_hypothesis)"
   ]
  },
  {
   "cell_type": "code",
   "execution_count": null,
   "id": "ee84b051",
   "metadata": {},
   "outputs": [],
   "source": []
  }
 ],
 "metadata": {
  "kernelspec": {
   "display_name": "Python 3",
   "language": "python",
   "name": "python3"
  },
  "language_info": {
   "codemirror_mode": {
    "name": "ipython",
    "version": 3
   },
   "file_extension": ".py",
   "mimetype": "text/x-python",
   "name": "python",
   "nbconvert_exporter": "python",
   "pygments_lexer": "ipython3",
   "version": "3.8.8"
  }
 },
 "nbformat": 4,
 "nbformat_minor": 5
}
