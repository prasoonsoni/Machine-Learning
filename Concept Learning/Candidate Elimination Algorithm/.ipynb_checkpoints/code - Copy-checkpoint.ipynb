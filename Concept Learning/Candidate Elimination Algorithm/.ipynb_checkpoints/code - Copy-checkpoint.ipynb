{
 "cells": [
  {
   "cell_type": "markdown",
   "id": "45b85e7b",
   "metadata": {},
   "source": [
    "# Implementing Candidate Elimination Algorithm"
   ]
  },
  {
   "cell_type": "markdown",
   "id": "44010dc5",
   "metadata": {},
   "source": [
    "**`Importing Required Library`**"
   ]
  },
  {
   "cell_type": "code",
   "execution_count": 24,
   "id": "6cf5b923",
   "metadata": {},
   "outputs": [],
   "source": [
    "import numpy as np\n",
    "import pandas as pd"
   ]
  },
  {
   "cell_type": "markdown",
   "id": "fcf66638",
   "metadata": {},
   "source": [
    "**` Reading CSV file`**"
   ]
  },
  {
   "cell_type": "code",
   "execution_count": 25,
   "id": "87951ba8",
   "metadata": {},
   "outputs": [],
   "source": [
    "df = pd.read_csv('data2.csv')"
   ]
  },
  {
   "cell_type": "markdown",
   "id": "c20a0022",
   "metadata": {},
   "source": [
    "**` Data with Result `**"
   ]
  },
  {
   "cell_type": "code",
   "execution_count": 26,
   "id": "77a6366d",
   "metadata": {},
   "outputs": [
    {
     "name": "stdout",
     "output_type": "stream",
     "text": [
      "[['Big' 'Red' 'Circle' 'No']\n",
      " ['Small' 'Red' 'Triangle' 'No']\n",
      " ['Small' 'Red' 'Circle' 'Yes']\n",
      " ['Big' 'Blue' 'Circle' 'No']\n",
      " ['Small' 'Blue' 'Circle' 'Yes']]\n"
     ]
    }
   ],
   "source": [
    "data_with_res = np.array(df)\n",
    "print(data_with_res)"
   ]
  },
  {
   "cell_type": "markdown",
   "id": "157e7306",
   "metadata": {},
   "source": [
    "**` Data without Result `**"
   ]
  },
  {
   "cell_type": "code",
   "execution_count": 27,
   "id": "f59f0a3b",
   "metadata": {},
   "outputs": [
    {
     "name": "stdout",
     "output_type": "stream",
     "text": [
      "[['Big' 'Red' 'Circle']\n",
      " ['Small' 'Red' 'Triangle']\n",
      " ['Small' 'Red' 'Circle']\n",
      " ['Big' 'Blue' 'Circle']\n",
      " ['Small' 'Blue' 'Circle']]\n"
     ]
    }
   ],
   "source": [
    "data_without_res = np.array(df)[:,:-1]\n",
    "print(data_without_res)"
   ]
  },
  {
   "cell_type": "markdown",
   "id": "bdecf229",
   "metadata": {},
   "source": [
    "**` For Specific Hypothesis `**"
   ]
  },
  {
   "cell_type": "code",
   "execution_count": 28,
   "id": "83701686",
   "metadata": {},
   "outputs": [
    {
     "name": "stdout",
     "output_type": "stream",
     "text": [
      "['Small' 'Red' 'Circle']\n"
     ]
    }
   ],
   "source": [
    "for i in range(len(data_with_res)):\n",
    "    if data_with_res[i][-1]=='Yes':\n",
    "        specific_hypothesis = data_without_res[i].copy()\n",
    "        break\n",
    "print(specific_hypothesis)"
   ]
  },
  {
   "cell_type": "markdown",
   "id": "d247972e",
   "metadata": {},
   "source": [
    "**` For General Hypothesis `**"
   ]
  },
  {
   "cell_type": "code",
   "execution_count": 29,
   "id": "0b391eb3",
   "metadata": {},
   "outputs": [
    {
     "name": "stdout",
     "output_type": "stream",
     "text": [
      "[]\n"
     ]
    }
   ],
   "source": [
    "general_hypothesis = []\n",
    "print(general_hypothesis)"
   ]
  },
  {
   "cell_type": "markdown",
   "id": "03a662a5",
   "metadata": {},
   "source": [
    "**` For finding most specific and most general hypothesis `**"
   ]
  },
  {
   "cell_type": "code",
   "execution_count": 30,
   "id": "9182cd0e",
   "metadata": {},
   "outputs": [
    {
     "name": "stdout",
     "output_type": "stream",
     "text": [
      "['Small' '?' 'Circle']\n",
      "[['Small', '?', '?'], ['?', '?', 'Circle'], ['Small', '?', '?']]\n"
     ]
    }
   ],
   "source": [
    "for i in range(len(data_without_res)):\n",
    "    if data_with_res[i][-1] == 'Yes':\n",
    "        for j in range(len(data_without_res[i])):\n",
    "            if data_without_res[i][j] != specific_hypothesis[j]:\n",
    "                specific_hypothesis[j] = '?'\n",
    "            else :\n",
    "                pass\n",
    "    elif data_with_res[i][-1] == 'No':\n",
    "        for j in range(len(data_without_res[i])):\n",
    "            if data_without_res[i][j] != specific_hypothesis[j]:\n",
    "                temp = ['?' for k in range(len(data_without_res[i]))]\n",
    "                temp[j] = specific_hypothesis[j]\n",
    "                general_hypothesis.append(temp)\n",
    "            else:\n",
    "                pass\n",
    "\n",
    "for i in range(len(general_hypothesis)):\n",
    "    for j in range(len(general_hypothesis[i])):\n",
    "        if general_hypothesis[i][j] != specific_hypothesis[j]:\n",
    "            general_hypothesis[i][j] = '?'\n",
    "        else:\n",
    "            pass\n",
    "\n",
    "general_hypothesis_final = []      \n",
    "for i in range(len(general_hypothesis)):\n",
    "    if general_hypothesis[i] != ['?', '?', '?']:\n",
    "        general_hypothesis_final.append(general_hypothesis[i])\n",
    "print(specific_hypothesis)\n",
    "print(general_hypothesis_final)"
   ]
  },
  {
   "cell_type": "code",
   "execution_count": null,
   "id": "e64910df",
   "metadata": {},
   "outputs": [],
   "source": []
  },
  {
   "cell_type": "code",
   "execution_count": null,
   "id": "69460fe8",
   "metadata": {},
   "outputs": [],
   "source": []
  },
  {
   "cell_type": "code",
   "execution_count": null,
   "id": "628c2522",
   "metadata": {},
   "outputs": [],
   "source": []
  },
  {
   "cell_type": "code",
   "execution_count": null,
   "id": "330f7647",
   "metadata": {},
   "outputs": [],
   "source": []
  },
  {
   "cell_type": "code",
   "execution_count": null,
   "id": "d068fd7d",
   "metadata": {},
   "outputs": [],
   "source": []
  },
  {
   "cell_type": "code",
   "execution_count": null,
   "id": "e908a745",
   "metadata": {},
   "outputs": [],
   "source": []
  },
  {
   "cell_type": "code",
   "execution_count": null,
   "id": "3b4bf6d2",
   "metadata": {},
   "outputs": [],
   "source": []
  },
  {
   "cell_type": "code",
   "execution_count": null,
   "id": "6295e4a5",
   "metadata": {},
   "outputs": [],
   "source": []
  },
  {
   "cell_type": "code",
   "execution_count": null,
   "id": "e65c048a",
   "metadata": {},
   "outputs": [],
   "source": []
  },
  {
   "cell_type": "code",
   "execution_count": null,
   "id": "2aff199d",
   "metadata": {},
   "outputs": [],
   "source": []
  }
 ],
 "metadata": {
  "kernelspec": {
   "display_name": "Python 3",
   "language": "python",
   "name": "python3"
  },
  "language_info": {
   "codemirror_mode": {
    "name": "ipython",
    "version": 3
   },
   "file_extension": ".py",
   "mimetype": "text/x-python",
   "name": "python",
   "nbconvert_exporter": "python",
   "pygments_lexer": "ipython3",
   "version": "3.8.8"
  }
 },
 "nbformat": 4,
 "nbformat_minor": 5
}
