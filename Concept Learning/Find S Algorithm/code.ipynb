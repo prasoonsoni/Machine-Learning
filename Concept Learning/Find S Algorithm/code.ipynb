{
 "cells": [
  {
   "cell_type": "markdown",
   "id": "df851805",
   "metadata": {},
   "source": [
    "# Implementing Find S Algorithm"
   ]
  },
  {
   "cell_type": "markdown",
   "id": "ede8261b",
   "metadata": {},
   "source": [
    "### Question : Implement and demonstrate the FIND-S algorithm for finding the most specific hypothesis based on a given set of training data samples. Read the training data from a .CSV file."
   ]
  },
  {
   "cell_type": "markdown",
   "id": "362b001c",
   "metadata": {},
   "source": [
    "**` Importing Required Libraries `**"
   ]
  },
  {
   "cell_type": "code",
   "execution_count": 45,
   "id": "d7ab9cf9",
   "metadata": {},
   "outputs": [],
   "source": [
    "import numpy as np\n",
    "import pandas as pd"
   ]
  },
  {
   "cell_type": "markdown",
   "id": "113188eb",
   "metadata": {},
   "source": [
    "**` Loading the Data `**"
   ]
  },
  {
   "cell_type": "code",
   "execution_count": 46,
   "id": "0e191104",
   "metadata": {},
   "outputs": [
    {
     "name": "stdout",
     "output_type": "stream",
     "text": [
      "The Given Training Data Set \n",
      "\n",
      "     Sky  Temp   Humid    Wind Water Forecast EnjoySpt\n",
      "0  Sunny  Warm  Normal  Strong  Warm     Same      Yes\n",
      "1  Sunny  Warm    High  Strong  Warm     Same      Yes\n",
      "2  Rainy  Cold    High  Strong  Warm   Change       No\n",
      "3  Sunny  Warm    High  Strong  Cool   Change      Yes\n"
     ]
    }
   ],
   "source": [
    "df = pd.read_csv('data.csv')\n",
    "print(\"The Given Training Data Set \\n\")\n",
    "print(df.to_string())"
   ]
  },
  {
   "cell_type": "markdown",
   "id": "595b54d9",
   "metadata": {},
   "source": [
    "**` Data with only attributes `**"
   ]
  },
  {
   "cell_type": "code",
   "execution_count": 66,
   "id": "d8d35e6b",
   "metadata": {},
   "outputs": [
    {
     "name": "stdout",
     "output_type": "stream",
     "text": [
      "The attributes are-\n",
      " [['Sunny' 'Warm' 'Normal' 'Strong' 'Warm' 'Same']\n",
      " ['Sunny' 'Warm' 'High' 'Strong' 'Warm' 'Same']\n",
      " ['Rainy' 'Cold' 'High' 'Strong' 'Warm' 'Change']\n",
      " ['Sunny' 'Warm' 'High' 'Strong' 'Cool' 'Change']]\n"
     ]
    }
   ],
   "source": [
    "data = np.array(df)[:,:-1]\n",
    "print(\"The attributes are-\\n\",data)"
   ]
  },
  {
   "cell_type": "markdown",
   "id": "fc5677ef",
   "metadata": {},
   "source": [
    "**` Target Concepts(Only Result) `**"
   ]
  },
  {
   "cell_type": "code",
   "execution_count": 64,
   "id": "c75ed7e2",
   "metadata": {},
   "outputs": [
    {
     "name": "stdout",
     "output_type": "stream",
     "text": [
      "The target concepts are : ['Yes' 'Yes' 'No' 'Yes']\n"
     ]
    }
   ],
   "source": [
    "target_concepts = np.array(df)[:,-1]\n",
    "print(\"The target concepts are :\",target_concepts)"
   ]
  },
  {
   "cell_type": "markdown",
   "id": "7639cd59",
   "metadata": {},
   "source": [
    "**` For Finding Specific Hypothesis `**"
   ]
  },
  {
   "cell_type": "code",
   "execution_count": 62,
   "id": "75c5c94a",
   "metadata": {},
   "outputs": [
    {
     "name": "stdout",
     "output_type": "stream",
     "text": [
      "The initial value of hypothesis : ['0', '0', '0', '0', '0', '0']\n"
     ]
    }
   ],
   "source": [
    "hypothesis = ['0' for i in range(len(data[0]))]\n",
    "print(\"The initial value of hypothesis :\", hypothesis)\n",
    "for i in range(len(target_concepts)):\n",
    "    if target_concepts[i] == 'Yes':\n",
    "        hypothesis = data[i].copy()\n",
    "        break"
   ]
  },
  {
   "cell_type": "markdown",
   "id": "adc70384",
   "metadata": {},
   "source": [
    "**` For finding Final Hypothesis.`**"
   ]
  },
  {
   "cell_type": "code",
   "execution_count": 63,
   "id": "627fc970",
   "metadata": {},
   "outputs": [
    {
     "name": "stdout",
     "output_type": "stream",
     "text": [
      "For Training Set Example No: 0 the hypothesis is:  ['Sunny' 'Warm' 'Normal' 'Strong' 'Warm' 'Same']\n",
      "\n",
      "For Training Set Example No: 1 the hypothesis is:  ['Sunny' 'Warm' '?' 'Strong' 'Warm' 'Same']\n",
      "\n",
      "For Training Set Example No: 2 the hypothesis is:  ['Sunny' 'Warm' '?' 'Strong' 'Warm' 'Same']\n",
      "\n",
      "For Training Set Example No: 3 the hypothesis is:  ['Sunny' 'Warm' '?' 'Strong' '?' '?']\n",
      "\n",
      "The maximally Specific Hypothesis for a given Training Examples: ['Sunny' 'Warm' '?' 'Strong' '?' '?']\n"
     ]
    }
   ],
   "source": [
    "for i in range(len(data)):\n",
    "    if target_concepts[i] == \"Yes\":\n",
    "        for j in range(len(data[i])):\n",
    "            if data[i][j] != hypothesis[j]:\n",
    "                hypothesis[j] = '?'\n",
    "            else:\n",
    "                continue\n",
    "    print(\"For Training Set Example No:\",i,\"the hypothesis is: \",hypothesis)\n",
    "    print()\n",
    "            \n",
    "final_hypothesis = hypothesis.copy()\n",
    "print(\"The maximally Specific Hypothesis for a given Training Examples:\",final_hypothesis)"
   ]
  },
  {
   "cell_type": "code",
   "execution_count": null,
   "id": "f9cc1f48",
   "metadata": {},
   "outputs": [],
   "source": []
  }
 ],
 "metadata": {
  "kernelspec": {
   "display_name": "Python 3",
   "language": "python",
   "name": "python3"
  },
  "language_info": {
   "codemirror_mode": {
    "name": "ipython",
    "version": 3
   },
   "file_extension": ".py",
   "mimetype": "text/x-python",
   "name": "python",
   "nbconvert_exporter": "python",
   "pygments_lexer": "ipython3",
   "version": "3.8.8"
  }
 },
 "nbformat": 4,
 "nbformat_minor": 5
}
