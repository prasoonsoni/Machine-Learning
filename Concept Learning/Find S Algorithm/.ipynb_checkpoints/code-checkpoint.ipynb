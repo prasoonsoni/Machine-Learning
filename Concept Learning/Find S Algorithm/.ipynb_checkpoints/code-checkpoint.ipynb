{
 "cells": [
  {
   "cell_type": "markdown",
   "id": "df851805",
   "metadata": {},
   "source": [
    "# Implementing Find S Algorithm"
   ]
  },
  {
   "cell_type": "markdown",
   "id": "362b001c",
   "metadata": {},
   "source": [
    "**` Importing Required Libraries `**"
   ]
  },
  {
   "cell_type": "code",
   "execution_count": 41,
   "id": "d7ab9cf9",
   "metadata": {},
   "outputs": [],
   "source": [
    "import numpy as np\n",
    "import pandas as pd"
   ]
  },
  {
   "cell_type": "markdown",
   "id": "113188eb",
   "metadata": {},
   "source": [
    "**` Loading the Data `**"
   ]
  },
  {
   "cell_type": "code",
   "execution_count": 43,
   "id": "0e191104",
   "metadata": {},
   "outputs": [
    {
     "name": "stdout",
     "output_type": "stream",
     "text": [
      "     Sky  Temp   Humid    Wind Water Forecast EnjoySpt\n",
      "0  Sunny  Warm  Normal  Strong  Warm     Same      Yes\n",
      "1  Sunny  Warm    High  Strong  Warm     Same      Yes\n",
      "2  Rainy  Cold    High  Strong  Warm   Change       No\n",
      "3  Sunny  Warm    High  Strong  Cool   Change      Yes\n"
     ]
    }
   ],
   "source": [
    "df = pd.read_csv('data.csv')\n",
    "print(df.to_string())"
   ]
  },
  {
   "cell_type": "markdown",
   "id": "595b54d9",
   "metadata": {},
   "source": [
    "**` Data with Result `**"
   ]
  },
  {
   "cell_type": "code",
   "execution_count": 39,
   "id": "d8d35e6b",
   "metadata": {},
   "outputs": [
    {
     "name": "stdout",
     "output_type": "stream",
     "text": [
      "[['Sunny' 'Warm' 'Normal' 'Strong' 'Warm' 'Same' 'Yes']\n",
      " ['Sunny' 'Warm' 'High' 'Strong' 'Warm' 'Same' 'Yes']\n",
      " ['Rainy' 'Cold' 'High' 'Strong' 'Warm' 'Change' 'No']\n",
      " ['Sunny' 'Warm' 'High' 'Strong' 'Cool' 'Change' 'Yes']]\n"
     ]
    }
   ],
   "source": [
    "data = np.array(data)\n",
    "print(data)"
   ]
  },
  {
   "cell_type": "markdown",
   "id": "fc5677ef",
   "metadata": {},
   "source": [
    "**` Data without Result `**"
   ]
  },
  {
   "cell_type": "code",
   "execution_count": 40,
   "id": "c75ed7e2",
   "metadata": {},
   "outputs": [
    {
     "name": "stdout",
     "output_type": "stream",
     "text": [
      "[['Sunny' 'Warm' 'Normal' 'Strong' 'Warm' 'Same']\n",
      " ['Sunny' 'Warm' 'High' 'Strong' 'Warm' 'Same']\n",
      " ['Rainy' 'Cold' 'High' 'Strong' 'Warm' 'Change']\n",
      " ['Sunny' 'Warm' 'High' 'Strong' 'Cool' 'Change']]\n"
     ]
    }
   ],
   "source": [
    "data_array = np.array(data)[:,:-1]\n",
    "print(data_array)"
   ]
  },
  {
   "cell_type": "markdown",
   "id": "7639cd59",
   "metadata": {},
   "source": [
    "**` For Finding Specific Hypothesis `**"
   ]
  },
  {
   "cell_type": "code",
   "execution_count": 27,
   "id": "75c5c94a",
   "metadata": {},
   "outputs": [
    {
     "name": "stdout",
     "output_type": "stream",
     "text": [
      "['Sunny' 'Warm' 'Normal' 'Strong' 'Warm' 'Same']\n"
     ]
    }
   ],
   "source": [
    "for i in range(len(data)):\n",
    "    if data[i][-1]=='Yes':\n",
    "        specific_hypothesis = data_array[i].copy()\n",
    "        break\n",
    "print(specific_hypothesis)"
   ]
  },
  {
   "cell_type": "markdown",
   "id": "adc70384",
   "metadata": {},
   "source": [
    "**` For finding Final Hypothesis.`**"
   ]
  },
  {
   "cell_type": "code",
   "execution_count": 32,
   "id": "627fc970",
   "metadata": {},
   "outputs": [
    {
     "name": "stdout",
     "output_type": "stream",
     "text": [
      "['Sunny' 'Warm' '?' 'Strong' '?' '?']\n"
     ]
    }
   ],
   "source": [
    "for i in range(len(data_array)):\n",
    "    if data[i][-1]==\"Yes\":\n",
    "        for j in range(len(data_array[i])):\n",
    "            if data_array[i][j]!=specific_hypothesis[j]:\n",
    "                specific_hypothesis[j] = '?'\n",
    "            else:\n",
    "                pass\n",
    "            \n",
    "final_hypothesis = specific_hypothesis.copy()\n",
    "print(final_hypothesis)"
   ]
  },
  {
   "cell_type": "code",
   "execution_count": null,
   "id": "e33715f2",
   "metadata": {},
   "outputs": [],
   "source": []
  }
 ],
 "metadata": {
  "kernelspec": {
   "display_name": "Python 3",
   "language": "python",
   "name": "python3"
  },
  "language_info": {
   "codemirror_mode": {
    "name": "ipython",
    "version": 3
   },
   "file_extension": ".py",
   "mimetype": "text/x-python",
   "name": "python",
   "nbconvert_exporter": "python",
   "pygments_lexer": "ipython3",
   "version": "3.8.8"
  }
 },
 "nbformat": 4,
 "nbformat_minor": 5
}
